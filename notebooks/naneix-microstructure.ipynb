{
 "cells": [
  {
   "cell_type": "markdown",
   "metadata": {},
   "source": [
    "### Code to make figures for paper on lick microstructure and need states by Naneix et al."
   ]
  },
  {
   "cell_type": "code",
   "execution_count": 122,
   "metadata": {},
   "outputs": [],
   "source": [
    "%run ..\\helperfx.py"
   ]
  },
  {
   "cell_type": "code",
   "execution_count": 127,
   "metadata": {},
   "outputs": [],
   "source": [
    "medfolder = '..\\\\meddata\\\\'\n",
    "medfile = medfolder + '!2017-04-17_09h06m.Subject dpcp1.6'\n",
    "\n",
    "varsToExtract = 'e'\n",
    "\n",
    "minburstlength = 1"
   ]
  },
  {
   "cell_type": "code",
   "execution_count": 128,
   "metadata": {},
   "outputs": [],
   "source": [
    "licks = medfilereader(medfile, varsToExtract=varsToExtract, remove_var_header=True)"
   ]
  },
  {
   "cell_type": "code",
   "execution_count": 129,
   "metadata": {},
   "outputs": [],
   "source": [
    "lickdata = lickCalc(licks, minburstlength=minburstlength)"
   ]
  },
  {
   "cell_type": "code",
   "execution_count": 130,
   "metadata": {},
   "outputs": [
    {
     "name": "stdout",
     "output_type": "stream",
     "text": [
      "115 115 115\n"
     ]
    }
   ],
   "source": [
    "print(lickdata['bNum'], len(lickdata['bStart']), len(lickdata['bLicks']))"
   ]
  },
  {
   "cell_type": "code",
   "execution_count": 131,
   "metadata": {},
   "outputs": [
    {
     "data": {
      "text/plain": [
       "[41,\n",
       " 2,\n",
       " 27,\n",
       " 9,\n",
       " 24,\n",
       " 8,\n",
       " 16,\n",
       " 12,\n",
       " 23,\n",
       " 23,\n",
       " 32,\n",
       " 22,\n",
       " 11,\n",
       " 39,\n",
       " 3,\n",
       " 2,\n",
       " 8,\n",
       " 1,\n",
       " 15,\n",
       " 6,\n",
       " 5,\n",
       " 5,\n",
       " 15,\n",
       " 10,\n",
       " 7,\n",
       " 1,\n",
       " 2,\n",
       " 1,\n",
       " 1,\n",
       " 1,\n",
       " 1,\n",
       " 1,\n",
       " 2,\n",
       " 2,\n",
       " 11,\n",
       " 17,\n",
       " 25,\n",
       " 9,\n",
       " 10,\n",
       " 41,\n",
       " 23,\n",
       " 13,\n",
       " 13,\n",
       " 1,\n",
       " 14,\n",
       " 16,\n",
       " 8,\n",
       " 41,\n",
       " 7,\n",
       " 27,\n",
       " 20,\n",
       " 3,\n",
       " 21,\n",
       " 4,\n",
       " 1,\n",
       " 14,\n",
       " 12,\n",
       " 2,\n",
       " 7,\n",
       " 15,\n",
       " 18,\n",
       " 16,\n",
       " 18,\n",
       " 15,\n",
       " 13,\n",
       " 6,\n",
       " 5,\n",
       " 42,\n",
       " 24,\n",
       " 1,\n",
       " 5,\n",
       " 30,\n",
       " 4,\n",
       " 10,\n",
       " 1,\n",
       " 51,\n",
       " 10,\n",
       " 104,\n",
       " 58,\n",
       " 30,\n",
       " 34,\n",
       " 21,\n",
       " 4,\n",
       " 1,\n",
       " 80,\n",
       " 1,\n",
       " 19,\n",
       " 17,\n",
       " 30,\n",
       " 14,\n",
       " 11,\n",
       " 32,\n",
       " 5,\n",
       " 12,\n",
       " 3,\n",
       " 4,\n",
       " 2,\n",
       " 4,\n",
       " 5,\n",
       " 3,\n",
       " 10,\n",
       " 4,\n",
       " 9,\n",
       " 5,\n",
       " 3,\n",
       " 1,\n",
       " 1,\n",
       " 67,\n",
       " 4,\n",
       " 3,\n",
       " 1,\n",
       " 2,\n",
       " 5,\n",
       " 3,\n",
       " 4]"
      ]
     },
     "execution_count": 131,
     "metadata": {},
     "output_type": "execute_result"
    }
   ],
   "source": [
    "lickdata['bLicks']"
   ]
  },
  {
   "cell_type": "code",
   "execution_count": 71,
   "metadata": {},
   "outputs": [],
   "source": [
    "data = lickdata['bLicks']"
   ]
  },
  {
   "cell_type": "code",
   "execution_count": 78,
   "metadata": {},
   "outputs": [
    {
     "name": "stdout",
     "output_type": "stream",
     "text": [
      "99\n"
     ]
    }
   ],
   "source": [
    "minburstlength = 2\n",
    "\n",
    "inds = [i for i, val in enumerate(data) if val>minburstlength-1]\n",
    "print(len(inds))"
   ]
  },
  {
   "cell_type": "code",
   "execution_count": 79,
   "metadata": {},
   "outputs": [],
   "source": [
    "bursts = lickdata['bStart']"
   ]
  },
  {
   "cell_type": "code",
   "execution_count": 82,
   "metadata": {},
   "outputs": [
    {
     "data": {
      "text/plain": [
       "99"
      ]
     },
     "execution_count": 82,
     "metadata": {},
     "output_type": "execute_result"
    }
   ],
   "source": [
    "newbursts = [bursts[i] for i in inds]\n",
    "len(newbursts)"
   ]
  },
  {
   "cell_type": "code",
   "execution_count": null,
   "metadata": {},
   "outputs": [],
   "source": []
  }
 ],
 "metadata": {
  "kernelspec": {
   "display_name": "Python 3",
   "language": "python",
   "name": "python3"
  },
  "language_info": {
   "codemirror_mode": {
    "name": "ipython",
    "version": 3
   },
   "file_extension": ".py",
   "mimetype": "text/x-python",
   "name": "python",
   "nbconvert_exporter": "python",
   "pygments_lexer": "ipython3",
   "version": "3.6.4"
  }
 },
 "nbformat": 4,
 "nbformat_minor": 2
}
